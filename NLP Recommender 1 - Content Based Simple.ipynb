{
 "cells": [
  {
   "cell_type": "code",
   "execution_count": 1,
   "metadata": {},
   "outputs": [],
   "source": [
    "import numpy as np \n",
    "import pandas as pd"
   ]
  },
  {
   "cell_type": "code",
   "execution_count": 2,
   "metadata": {},
   "outputs": [],
   "source": [
    "df = pd.read_csv('datasets\\movies.csv', index_col=0)"
   ]
  },
  {
   "cell_type": "code",
   "execution_count": 3,
   "metadata": {},
   "outputs": [
    {
     "data": {
      "text/html": [
       "<div>\n",
       "<style scoped>\n",
       "    .dataframe tbody tr th:only-of-type {\n",
       "        vertical-align: middle;\n",
       "    }\n",
       "\n",
       "    .dataframe tbody tr th {\n",
       "        vertical-align: top;\n",
       "    }\n",
       "\n",
       "    .dataframe thead th {\n",
       "        text-align: right;\n",
       "    }\n",
       "</style>\n",
       "<table border=\"1\" class=\"dataframe\">\n",
       "  <thead>\n",
       "    <tr style=\"text-align: right;\">\n",
       "      <th></th>\n",
       "      <th>movie</th>\n",
       "      <th>year</th>\n",
       "      <th>run_time</th>\n",
       "      <th>genre</th>\n",
       "      <th>director</th>\n",
       "      <th>about</th>\n",
       "      <th>rating</th>\n",
       "    </tr>\n",
       "  </thead>\n",
       "  <tbody>\n",
       "    <tr>\n",
       "      <th>0</th>\n",
       "      <td>The Mitchells vs the Machines</td>\n",
       "      <td>2021</td>\n",
       "      <td>113 min</td>\n",
       "      <td>Animation  Adventure  Comedy</td>\n",
       "      <td>Michael Rianda</td>\n",
       "      <td>A quirky, dysfunctional family's road trip is ...</td>\n",
       "      <td>7.8</td>\n",
       "    </tr>\n",
       "    <tr>\n",
       "      <th>1</th>\n",
       "      <td>Zack Snyder's Justice League</td>\n",
       "      <td>2021</td>\n",
       "      <td>242 min</td>\n",
       "      <td>Action  Adventure  Fantasy</td>\n",
       "      <td>Zack Snyder</td>\n",
       "      <td>Determined to ensure Superman's ultimate sacri...</td>\n",
       "      <td>8.1</td>\n",
       "    </tr>\n",
       "    <tr>\n",
       "      <th>2</th>\n",
       "      <td>The Father</td>\n",
       "      <td>2020</td>\n",
       "      <td>97 min</td>\n",
       "      <td>Drama</td>\n",
       "      <td>Florian Zeller</td>\n",
       "      <td>A man refuses all assistance from his daughter...</td>\n",
       "      <td>8.3</td>\n",
       "    </tr>\n",
       "    <tr>\n",
       "      <th>3</th>\n",
       "      <td>Avengers: Endgame</td>\n",
       "      <td>2019</td>\n",
       "      <td>181 min</td>\n",
       "      <td>Action  Adventure  Drama</td>\n",
       "      <td>Anthony Russo</td>\n",
       "      <td>After the devastating events of Avengers: Infi...</td>\n",
       "      <td>8.4</td>\n",
       "    </tr>\n",
       "    <tr>\n",
       "      <th>4</th>\n",
       "      <td>The Shawshank Redemption</td>\n",
       "      <td>1994</td>\n",
       "      <td>142 min</td>\n",
       "      <td>Drama</td>\n",
       "      <td>Frank Darabont</td>\n",
       "      <td>Two imprisoned men bond over a number of years...</td>\n",
       "      <td>9.3</td>\n",
       "    </tr>\n",
       "  </tbody>\n",
       "</table>\n",
       "</div>"
      ],
      "text/plain": [
       "                           movie  year run_time  \\\n",
       "0  The Mitchells vs the Machines  2021  113 min   \n",
       "1   Zack Snyder's Justice League  2021  242 min   \n",
       "2                     The Father  2020   97 min   \n",
       "3              Avengers: Endgame  2019  181 min   \n",
       "4       The Shawshank Redemption  1994  142 min   \n",
       "\n",
       "                                      genre        director  \\\n",
       "0  Animation  Adventure  Comedy              Michael Rianda   \n",
       "1    Action  Adventure  Fantasy                 Zack Snyder   \n",
       "2                         Drama              Florian Zeller   \n",
       "3      Action  Adventure  Drama               Anthony Russo   \n",
       "4                         Drama              Frank Darabont   \n",
       "\n",
       "                                               about  rating  \n",
       "0  A quirky, dysfunctional family's road trip is ...     7.8  \n",
       "1  Determined to ensure Superman's ultimate sacri...     8.1  \n",
       "2  A man refuses all assistance from his daughter...     8.3  \n",
       "3  After the devastating events of Avengers: Infi...     8.4  \n",
       "4  Two imprisoned men bond over a number of years...     9.3  "
      ]
     },
     "execution_count": 3,
     "metadata": {},
     "output_type": "execute_result"
    }
   ],
   "source": [
    "df.head()"
   ]
  },
  {
   "cell_type": "code",
   "execution_count": 12,
   "metadata": {},
   "outputs": [
    {
     "data": {
      "text/plain": [
       "(1000, 7)"
      ]
     },
     "execution_count": 12,
     "metadata": {},
     "output_type": "execute_result"
    }
   ],
   "source": [
    "df.shape"
   ]
  },
  {
   "cell_type": "code",
   "execution_count": null,
   "metadata": {},
   "outputs": [],
   "source": []
  },
  {
   "cell_type": "code",
   "execution_count": null,
   "metadata": {},
   "outputs": [],
   "source": []
  },
  {
   "cell_type": "code",
   "execution_count": null,
   "metadata": {},
   "outputs": [],
   "source": []
  },
  {
   "cell_type": "code",
   "execution_count": null,
   "metadata": {},
   "outputs": [],
   "source": []
  },
  {
   "cell_type": "code",
   "execution_count": null,
   "metadata": {},
   "outputs": [],
   "source": []
  },
  {
   "cell_type": "code",
   "execution_count": null,
   "metadata": {},
   "outputs": [],
   "source": []
  },
  {
   "cell_type": "code",
   "execution_count": null,
   "metadata": {},
   "outputs": [],
   "source": []
  },
  {
   "cell_type": "code",
   "execution_count": null,
   "metadata": {},
   "outputs": [],
   "source": []
  },
  {
   "cell_type": "code",
   "execution_count": null,
   "metadata": {},
   "outputs": [],
   "source": []
  },
  {
   "cell_type": "code",
   "execution_count": null,
   "metadata": {},
   "outputs": [],
   "source": []
  }
 ],
 "metadata": {
  "kernelspec": {
   "display_name": "Python 3",
   "language": "python",
   "name": "python3"
  },
  "language_info": {
   "codemirror_mode": {
    "name": "ipython",
    "version": 3
   },
   "file_extension": ".py",
   "mimetype": "text/x-python",
   "name": "python",
   "nbconvert_exporter": "python",
   "pygments_lexer": "ipython3",
   "version": "3.8.5"
  }
 },
 "nbformat": 4,
 "nbformat_minor": 4
}
