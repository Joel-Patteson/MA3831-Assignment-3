{
 "cells": [
  {
   "cell_type": "markdown",
   "metadata": {},
   "source": [
    "# Movie Recommendation System 1"
   ]
  },
  {
   "cell_type": "code",
   "execution_count": 331,
   "metadata": {},
   "outputs": [],
   "source": [
    "import numpy as np \n",
    "import pandas as pd"
   ]
  },
  {
   "cell_type": "code",
   "execution_count": 332,
   "metadata": {},
   "outputs": [],
   "source": [
    "df = pd.read_csv('datasets\\movies.csv')"
   ]
  },
  {
   "cell_type": "code",
   "execution_count": 333,
   "metadata": {},
   "outputs": [
    {
     "data": {
      "text/html": [
       "<div>\n",
       "<style scoped>\n",
       "    .dataframe tbody tr th:only-of-type {\n",
       "        vertical-align: middle;\n",
       "    }\n",
       "\n",
       "    .dataframe tbody tr th {\n",
       "        vertical-align: top;\n",
       "    }\n",
       "\n",
       "    .dataframe thead th {\n",
       "        text-align: right;\n",
       "    }\n",
       "</style>\n",
       "<table border=\"1\" class=\"dataframe\">\n",
       "  <thead>\n",
       "    <tr style=\"text-align: right;\">\n",
       "      <th></th>\n",
       "      <th>Unnamed: 0</th>\n",
       "      <th>movie</th>\n",
       "      <th>year</th>\n",
       "      <th>run_time</th>\n",
       "      <th>genre</th>\n",
       "      <th>director</th>\n",
       "      <th>about</th>\n",
       "      <th>rating</th>\n",
       "    </tr>\n",
       "  </thead>\n",
       "  <tbody>\n",
       "    <tr>\n",
       "      <th>0</th>\n",
       "      <td>0</td>\n",
       "      <td>The Shawshank Redemption</td>\n",
       "      <td>1994</td>\n",
       "      <td>142 min</td>\n",
       "      <td>Drama</td>\n",
       "      <td>Frank Darabont</td>\n",
       "      <td>Two imprisoned men bond over a number of years...</td>\n",
       "      <td>9.3</td>\n",
       "    </tr>\n",
       "    <tr>\n",
       "      <th>1</th>\n",
       "      <td>1</td>\n",
       "      <td>The Godfather</td>\n",
       "      <td>1972</td>\n",
       "      <td>175 min</td>\n",
       "      <td>Crime  Drama</td>\n",
       "      <td>Francis Ford Coppola</td>\n",
       "      <td>An organized crime dynasty's aging patriarch t...</td>\n",
       "      <td>9.2</td>\n",
       "    </tr>\n",
       "    <tr>\n",
       "      <th>2</th>\n",
       "      <td>2</td>\n",
       "      <td>Soorarai Pottru</td>\n",
       "      <td>2020</td>\n",
       "      <td>153 min</td>\n",
       "      <td>Drama</td>\n",
       "      <td>Sudha Kongara</td>\n",
       "      <td>Nedumaaran Rajangam \"Maara\" sets out to make t...</td>\n",
       "      <td>9.1</td>\n",
       "    </tr>\n",
       "    <tr>\n",
       "      <th>3</th>\n",
       "      <td>3</td>\n",
       "      <td>The Dark Knight</td>\n",
       "      <td>2008</td>\n",
       "      <td>152 min</td>\n",
       "      <td>Action  Crime  Drama</td>\n",
       "      <td>Christopher Nolan</td>\n",
       "      <td>When the menace known as the Joker wreaks havo...</td>\n",
       "      <td>9.0</td>\n",
       "    </tr>\n",
       "    <tr>\n",
       "      <th>4</th>\n",
       "      <td>4</td>\n",
       "      <td>The Godfather: Part II</td>\n",
       "      <td>1974</td>\n",
       "      <td>202 min</td>\n",
       "      <td>Crime  Drama</td>\n",
       "      <td>Francis Ford Coppola</td>\n",
       "      <td>The early life and career of Vito Corleone in ...</td>\n",
       "      <td>9.0</td>\n",
       "    </tr>\n",
       "  </tbody>\n",
       "</table>\n",
       "</div>"
      ],
      "text/plain": [
       "   Unnamed: 0                     movie  year run_time  \\\n",
       "0           0  The Shawshank Redemption  1994  142 min   \n",
       "1           1             The Godfather  1972  175 min   \n",
       "2           2           Soorarai Pottru  2020  153 min   \n",
       "3           3           The Dark Knight  2008  152 min   \n",
       "4           4    The Godfather: Part II  1974  202 min   \n",
       "\n",
       "                              genre              director  \\\n",
       "0                 Drama                    Frank Darabont   \n",
       "1          Crime  Drama              Francis Ford Coppola   \n",
       "2                 Drama                     Sudha Kongara   \n",
       "3  Action  Crime  Drama                 Christopher Nolan   \n",
       "4          Crime  Drama              Francis Ford Coppola   \n",
       "\n",
       "                                               about  rating  \n",
       "0  Two imprisoned men bond over a number of years...     9.3  \n",
       "1  An organized crime dynasty's aging patriarch t...     9.2  \n",
       "2  Nedumaaran Rajangam \"Maara\" sets out to make t...     9.1  \n",
       "3  When the menace known as the Joker wreaks havo...     9.0  \n",
       "4  The early life and career of Vito Corleone in ...     9.0  "
      ]
     },
     "execution_count": 333,
     "metadata": {},
     "output_type": "execute_result"
    }
   ],
   "source": [
    "df.head()"
   ]
  },
  {
   "cell_type": "code",
   "execution_count": 334,
   "metadata": {},
   "outputs": [
    {
     "data": {
      "text/plain": [
       "(1000, 8)"
      ]
     },
     "execution_count": 334,
     "metadata": {},
     "output_type": "execute_result"
    }
   ],
   "source": [
    "df.shape"
   ]
  },
  {
   "cell_type": "code",
   "execution_count": 335,
   "metadata": {},
   "outputs": [
    {
     "data": {
      "text/html": [
       "<div>\n",
       "<style scoped>\n",
       "    .dataframe tbody tr th:only-of-type {\n",
       "        vertical-align: middle;\n",
       "    }\n",
       "\n",
       "    .dataframe tbody tr th {\n",
       "        vertical-align: top;\n",
       "    }\n",
       "\n",
       "    .dataframe thead th {\n",
       "        text-align: right;\n",
       "    }\n",
       "</style>\n",
       "<table border=\"1\" class=\"dataframe\">\n",
       "  <thead>\n",
       "    <tr style=\"text-align: right;\">\n",
       "      <th></th>\n",
       "      <th>Unnamed: 0</th>\n",
       "      <th>year</th>\n",
       "      <th>rating</th>\n",
       "    </tr>\n",
       "  </thead>\n",
       "  <tbody>\n",
       "    <tr>\n",
       "      <th>count</th>\n",
       "      <td>1000.000000</td>\n",
       "      <td>1000.000000</td>\n",
       "      <td>1000.000000</td>\n",
       "    </tr>\n",
       "    <tr>\n",
       "      <th>mean</th>\n",
       "      <td>499.500000</td>\n",
       "      <td>1991.211000</td>\n",
       "      <td>7.956100</td>\n",
       "    </tr>\n",
       "    <tr>\n",
       "      <th>std</th>\n",
       "      <td>288.819436</td>\n",
       "      <td>23.438811</td>\n",
       "      <td>0.277524</td>\n",
       "    </tr>\n",
       "    <tr>\n",
       "      <th>min</th>\n",
       "      <td>0.000000</td>\n",
       "      <td>1920.000000</td>\n",
       "      <td>7.600000</td>\n",
       "    </tr>\n",
       "    <tr>\n",
       "      <th>25%</th>\n",
       "      <td>249.750000</td>\n",
       "      <td>1976.000000</td>\n",
       "      <td>7.700000</td>\n",
       "    </tr>\n",
       "    <tr>\n",
       "      <th>50%</th>\n",
       "      <td>499.500000</td>\n",
       "      <td>1999.000000</td>\n",
       "      <td>7.900000</td>\n",
       "    </tr>\n",
       "    <tr>\n",
       "      <th>75%</th>\n",
       "      <td>749.250000</td>\n",
       "      <td>2010.000000</td>\n",
       "      <td>8.100000</td>\n",
       "    </tr>\n",
       "    <tr>\n",
       "      <th>max</th>\n",
       "      <td>999.000000</td>\n",
       "      <td>2021.000000</td>\n",
       "      <td>9.300000</td>\n",
       "    </tr>\n",
       "  </tbody>\n",
       "</table>\n",
       "</div>"
      ],
      "text/plain": [
       "        Unnamed: 0         year       rating\n",
       "count  1000.000000  1000.000000  1000.000000\n",
       "mean    499.500000  1991.211000     7.956100\n",
       "std     288.819436    23.438811     0.277524\n",
       "min       0.000000  1920.000000     7.600000\n",
       "25%     249.750000  1976.000000     7.700000\n",
       "50%     499.500000  1999.000000     7.900000\n",
       "75%     749.250000  2010.000000     8.100000\n",
       "max     999.000000  2021.000000     9.300000"
      ]
     },
     "execution_count": 335,
     "metadata": {},
     "output_type": "execute_result"
    }
   ],
   "source": [
    "df.describe()"
   ]
  },
  {
   "cell_type": "code",
   "execution_count": 336,
   "metadata": {},
   "outputs": [],
   "source": [
    "df = df.rename(columns={'Unnamed: 0': 'index'})"
   ]
  },
  {
   "cell_type": "code",
   "execution_count": 337,
   "metadata": {},
   "outputs": [
    {
     "data": {
      "text/html": [
       "<div>\n",
       "<style scoped>\n",
       "    .dataframe tbody tr th:only-of-type {\n",
       "        vertical-align: middle;\n",
       "    }\n",
       "\n",
       "    .dataframe tbody tr th {\n",
       "        vertical-align: top;\n",
       "    }\n",
       "\n",
       "    .dataframe thead th {\n",
       "        text-align: right;\n",
       "    }\n",
       "</style>\n",
       "<table border=\"1\" class=\"dataframe\">\n",
       "  <thead>\n",
       "    <tr style=\"text-align: right;\">\n",
       "      <th></th>\n",
       "      <th>index</th>\n",
       "      <th>movie</th>\n",
       "      <th>year</th>\n",
       "      <th>run_time</th>\n",
       "      <th>genre</th>\n",
       "      <th>director</th>\n",
       "      <th>about</th>\n",
       "      <th>rating</th>\n",
       "    </tr>\n",
       "  </thead>\n",
       "  <tbody>\n",
       "    <tr>\n",
       "      <th>0</th>\n",
       "      <td>0</td>\n",
       "      <td>The Shawshank Redemption</td>\n",
       "      <td>1994</td>\n",
       "      <td>142 min</td>\n",
       "      <td>Drama</td>\n",
       "      <td>Frank Darabont</td>\n",
       "      <td>Two imprisoned men bond over a number of years...</td>\n",
       "      <td>9.3</td>\n",
       "    </tr>\n",
       "    <tr>\n",
       "      <th>1</th>\n",
       "      <td>1</td>\n",
       "      <td>The Godfather</td>\n",
       "      <td>1972</td>\n",
       "      <td>175 min</td>\n",
       "      <td>Crime  Drama</td>\n",
       "      <td>Francis Ford Coppola</td>\n",
       "      <td>An organized crime dynasty's aging patriarch t...</td>\n",
       "      <td>9.2</td>\n",
       "    </tr>\n",
       "    <tr>\n",
       "      <th>2</th>\n",
       "      <td>2</td>\n",
       "      <td>Soorarai Pottru</td>\n",
       "      <td>2020</td>\n",
       "      <td>153 min</td>\n",
       "      <td>Drama</td>\n",
       "      <td>Sudha Kongara</td>\n",
       "      <td>Nedumaaran Rajangam \"Maara\" sets out to make t...</td>\n",
       "      <td>9.1</td>\n",
       "    </tr>\n",
       "    <tr>\n",
       "      <th>3</th>\n",
       "      <td>3</td>\n",
       "      <td>The Dark Knight</td>\n",
       "      <td>2008</td>\n",
       "      <td>152 min</td>\n",
       "      <td>Action  Crime  Drama</td>\n",
       "      <td>Christopher Nolan</td>\n",
       "      <td>When the menace known as the Joker wreaks havo...</td>\n",
       "      <td>9.0</td>\n",
       "    </tr>\n",
       "    <tr>\n",
       "      <th>4</th>\n",
       "      <td>4</td>\n",
       "      <td>The Godfather: Part II</td>\n",
       "      <td>1974</td>\n",
       "      <td>202 min</td>\n",
       "      <td>Crime  Drama</td>\n",
       "      <td>Francis Ford Coppola</td>\n",
       "      <td>The early life and career of Vito Corleone in ...</td>\n",
       "      <td>9.0</td>\n",
       "    </tr>\n",
       "  </tbody>\n",
       "</table>\n",
       "</div>"
      ],
      "text/plain": [
       "   index                     movie  year run_time  \\\n",
       "0      0  The Shawshank Redemption  1994  142 min   \n",
       "1      1             The Godfather  1972  175 min   \n",
       "2      2           Soorarai Pottru  2020  153 min   \n",
       "3      3           The Dark Knight  2008  152 min   \n",
       "4      4    The Godfather: Part II  1974  202 min   \n",
       "\n",
       "                              genre              director  \\\n",
       "0                 Drama                    Frank Darabont   \n",
       "1          Crime  Drama              Francis Ford Coppola   \n",
       "2                 Drama                     Sudha Kongara   \n",
       "3  Action  Crime  Drama                 Christopher Nolan   \n",
       "4          Crime  Drama              Francis Ford Coppola   \n",
       "\n",
       "                                               about  rating  \n",
       "0  Two imprisoned men bond over a number of years...     9.3  \n",
       "1  An organized crime dynasty's aging patriarch t...     9.2  \n",
       "2  Nedumaaran Rajangam \"Maara\" sets out to make t...     9.1  \n",
       "3  When the menace known as the Joker wreaks havo...     9.0  \n",
       "4  The early life and career of Vito Corleone in ...     9.0  "
      ]
     },
     "execution_count": 337,
     "metadata": {},
     "output_type": "execute_result"
    }
   ],
   "source": [
    "df.head()"
   ]
  },
  {
   "cell_type": "code",
   "execution_count": 338,
   "metadata": {},
   "outputs": [
    {
     "data": {
      "text/html": [
       "<div>\n",
       "<style scoped>\n",
       "    .dataframe tbody tr th:only-of-type {\n",
       "        vertical-align: middle;\n",
       "    }\n",
       "\n",
       "    .dataframe tbody tr th {\n",
       "        vertical-align: top;\n",
       "    }\n",
       "\n",
       "    .dataframe thead th {\n",
       "        text-align: right;\n",
       "    }\n",
       "</style>\n",
       "<table border=\"1\" class=\"dataframe\">\n",
       "  <thead>\n",
       "    <tr style=\"text-align: right;\">\n",
       "      <th></th>\n",
       "      <th>index</th>\n",
       "      <th>movie</th>\n",
       "      <th>genre</th>\n",
       "      <th>director</th>\n",
       "      <th>about</th>\n",
       "    </tr>\n",
       "  </thead>\n",
       "  <tbody>\n",
       "    <tr>\n",
       "      <th>0</th>\n",
       "      <td>0</td>\n",
       "      <td>The Shawshank Redemption</td>\n",
       "      <td>Drama</td>\n",
       "      <td>Frank Darabont</td>\n",
       "      <td>Two imprisoned men bond over a number of years...</td>\n",
       "    </tr>\n",
       "    <tr>\n",
       "      <th>1</th>\n",
       "      <td>1</td>\n",
       "      <td>The Godfather</td>\n",
       "      <td>Crime  Drama</td>\n",
       "      <td>Francis Ford Coppola</td>\n",
       "      <td>An organized crime dynasty's aging patriarch t...</td>\n",
       "    </tr>\n",
       "    <tr>\n",
       "      <th>2</th>\n",
       "      <td>2</td>\n",
       "      <td>Soorarai Pottru</td>\n",
       "      <td>Drama</td>\n",
       "      <td>Sudha Kongara</td>\n",
       "      <td>Nedumaaran Rajangam \"Maara\" sets out to make t...</td>\n",
       "    </tr>\n",
       "    <tr>\n",
       "      <th>3</th>\n",
       "      <td>3</td>\n",
       "      <td>The Dark Knight</td>\n",
       "      <td>Action  Crime  Drama</td>\n",
       "      <td>Christopher Nolan</td>\n",
       "      <td>When the menace known as the Joker wreaks havo...</td>\n",
       "    </tr>\n",
       "    <tr>\n",
       "      <th>4</th>\n",
       "      <td>4</td>\n",
       "      <td>The Godfather: Part II</td>\n",
       "      <td>Crime  Drama</td>\n",
       "      <td>Francis Ford Coppola</td>\n",
       "      <td>The early life and career of Vito Corleone in ...</td>\n",
       "    </tr>\n",
       "  </tbody>\n",
       "</table>\n",
       "</div>"
      ],
      "text/plain": [
       "   index                     movie                             genre  \\\n",
       "0      0  The Shawshank Redemption                 Drama               \n",
       "1      1             The Godfather          Crime  Drama               \n",
       "2      2           Soorarai Pottru                 Drama               \n",
       "3      3           The Dark Knight  Action  Crime  Drama               \n",
       "4      4    The Godfather: Part II          Crime  Drama               \n",
       "\n",
       "               director                                              about  \n",
       "0        Frank Darabont  Two imprisoned men bond over a number of years...  \n",
       "1  Francis Ford Coppola  An organized crime dynasty's aging patriarch t...  \n",
       "2         Sudha Kongara  Nedumaaran Rajangam \"Maara\" sets out to make t...  \n",
       "3     Christopher Nolan  When the menace known as the Joker wreaks havo...  \n",
       "4  Francis Ford Coppola  The early life and career of Vito Corleone in ...  "
      ]
     },
     "execution_count": 338,
     "metadata": {},
     "output_type": "execute_result"
    }
   ],
   "source": [
    "df = df[['index','movie','genre','director','about']]\n",
    "df.head()"
   ]
  },
  {
   "cell_type": "code",
   "execution_count": 339,
   "metadata": {},
   "outputs": [],
   "source": [
    "movieIndex = 0"
   ]
  },
  {
   "cell_type": "code",
   "execution_count": 340,
   "metadata": {},
   "outputs": [],
   "source": [
    "from sklearn.feature_extraction.text import TfidfVectorizer"
   ]
  },
  {
   "cell_type": "code",
   "execution_count": 341,
   "metadata": {},
   "outputs": [
    {
     "data": {
      "text/plain": [
       "matrix([[0., 0., 0., ..., 0., 0., 0.],\n",
       "        [0., 0., 0., ..., 0., 0., 0.],\n",
       "        [0., 0., 0., ..., 0., 0., 0.],\n",
       "        ...,\n",
       "        [0., 0., 0., ..., 0., 0., 0.],\n",
       "        [0., 0., 0., ..., 0., 0., 0.],\n",
       "        [0., 0., 0., ..., 0., 0., 0.]])"
      ]
     },
     "execution_count": 341,
     "metadata": {},
     "output_type": "execute_result"
    }
   ],
   "source": [
    "vectorizer = TfidfVectorizer(stop_words = 'english')\n",
    "features = vectorizer.fit_transform(df[\"about\"]).todense()\n",
    "features"
   ]
  },
  {
   "cell_type": "code",
   "execution_count": 342,
   "metadata": {},
   "outputs": [
    {
     "name": "stdout",
     "output_type": "stream",
     "text": [
      "Two imprisoned men bond over a number of years, finding solace and eventual redemption through acts of common decency.\n"
     ]
    },
    {
     "data": {
      "text/html": [
       "<div>\n",
       "<style scoped>\n",
       "    .dataframe tbody tr th:only-of-type {\n",
       "        vertical-align: middle;\n",
       "    }\n",
       "\n",
       "    .dataframe tbody tr th {\n",
       "        vertical-align: top;\n",
       "    }\n",
       "\n",
       "    .dataframe thead th {\n",
       "        text-align: right;\n",
       "    }\n",
       "</style>\n",
       "<table border=\"1\" class=\"dataframe\">\n",
       "  <thead>\n",
       "    <tr style=\"text-align: right;\">\n",
       "      <th></th>\n",
       "      <th>acts</th>\n",
       "      <th>bond</th>\n",
       "      <th>common</th>\n",
       "      <th>decency</th>\n",
       "      <th>eventual</th>\n",
       "      <th>finding</th>\n",
       "      <th>imprisoned</th>\n",
       "      <th>men</th>\n",
       "      <th>number</th>\n",
       "      <th>redemption</th>\n",
       "      <th>solace</th>\n",
       "      <th>years</th>\n",
       "    </tr>\n",
       "  </thead>\n",
       "  <tbody>\n",
       "    <tr>\n",
       "      <th>0</th>\n",
       "      <td>0.288675</td>\n",
       "      <td>0.288675</td>\n",
       "      <td>0.288675</td>\n",
       "      <td>0.288675</td>\n",
       "      <td>0.288675</td>\n",
       "      <td>0.288675</td>\n",
       "      <td>0.288675</td>\n",
       "      <td>0.288675</td>\n",
       "      <td>0.288675</td>\n",
       "      <td>0.288675</td>\n",
       "      <td>0.288675</td>\n",
       "      <td>0.288675</td>\n",
       "    </tr>\n",
       "  </tbody>\n",
       "</table>\n",
       "</div>"
      ],
      "text/plain": [
       "       acts      bond    common   decency  eventual   finding  imprisoned  \\\n",
       "0  0.288675  0.288675  0.288675  0.288675  0.288675  0.288675    0.288675   \n",
       "\n",
       "        men    number  redemption    solace     years  \n",
       "0  0.288675  0.288675    0.288675  0.288675  0.288675  "
      ]
     },
     "execution_count": 342,
     "metadata": {},
     "output_type": "execute_result"
    }
   ],
   "source": [
    "print(df[\"about\"][0])\n",
    "dummy = pd.DataFrame(vectorizer.fit_transform([df[\"about\"][0]]).todense(),columns = vectorizer.get_feature_names())\n",
    "dummy"
   ]
  },
  {
   "cell_type": "code",
   "execution_count": null,
   "metadata": {},
   "outputs": [],
   "source": [
    "from sklearn.neighbors import NearestNeighbors"
   ]
  },
  {
   "cell_type": "code",
   "execution_count": 344,
   "metadata": {},
   "outputs": [],
   "source": [
    "n_neighbors = 6 \n",
    "\n",
    "def calc_KNN(df, features, movieIndex, n_neighbors):\n",
    "\n",
    "\n",
    "    KNN = NearestNeighbors(n_neighbors)\n",
    "    KNN.fit(features)\n",
    "    \n",
    "    # Use it to get neighbors\n",
    "    NearestNeighbor = KNN.kneighbors(features[movieIndex], return_distance=True) \n",
    "\n",
    "    return NearestNeighbor"
   ]
  },
  {
   "cell_type": "code",
   "execution_count": 349,
   "metadata": {},
   "outputs": [
    {
     "name": "stderr",
     "output_type": "stream",
     "text": [
      "C:\\ProgramData\\Anaconda3\\lib\\site-packages\\sklearn\\utils\\validation.py:67: FutureWarning: Pass n_neighbors=6 as keyword args. From version 0.25 passing these as positional arguments will result in an error\n",
      "  warnings.warn(\"Pass {} as keyword args. From version 0.25 \"\n"
     ]
    }
   ],
   "source": [
    "NearestNeighbor = calc_KNN(df, features, movieIndex, n_neighbors)"
   ]
  },
  {
   "cell_type": "code",
   "execution_count": 350,
   "metadata": {},
   "outputs": [
    {
     "data": {
      "text/plain": [
       "(array([[0.        , 1.28540976, 1.32009783, 1.32736623, 1.335098  ,\n",
       "         1.33628554]]),\n",
       " array([[  0, 361,  72, 182, 258, 136]], dtype=int64))"
      ]
     },
     "execution_count": 350,
     "metadata": {},
     "output_type": "execute_result"
    }
   ],
   "source": [
    "NearestNeighbor"
   ]
  },
  {
   "cell_type": "code",
   "execution_count": 353,
   "metadata": {},
   "outputs": [],
   "source": [
    "def printNearestNeighbor(df, NearestNeighbor, movieIndex):\n",
    "    \n",
    "    print(\"Courses similar to \"+df.iloc[movieIndex][\"movie\"]+\" are:\",'\\n')\n",
    "    for i in range(len(NearestNeighbor[1][0])):\n",
    "        if i != 0 :\n",
    "            print(df.iloc[NearestNeighbor[1][0][i]])"
   ]
  },
  {
   "cell_type": "code",
   "execution_count": 354,
   "metadata": {},
   "outputs": [
    {
     "name": "stdout",
     "output_type": "stream",
     "text": [
      "Courses similar to The Shawshank Redemption are: \n",
      "\n",
      "index                                                     361\n",
      "movie                                                   Dev.D\n",
      "genre                              Drama  Romance            \n",
      "director                                       Anurag Kashyap\n",
      "about       After breaking up with his childhood sweethear...\n",
      "Name: 361, dtype: object\n",
      "index                                                      72\n",
      "movie                                                  Oldboy\n",
      "genre                      Action  Drama  Mystery            \n",
      "director                                       Chan-wook Park\n",
      "about       After being kidnapped and imprisoned for fifte...\n",
      "Name: 72, dtype: object\n",
      "index                                                     182\n",
      "movie                                        The Great Escape\n",
      "genre                   Adventure  Drama  History            \n",
      "director                                         John Sturges\n",
      "about       Allied prisoners of war plan for several hundr...\n",
      "Name: 182, dtype: object\n",
      "index                                                     258\n",
      "movie                                    In the Mood for Love\n",
      "genre                              Drama  Romance            \n",
      "director                                         Kar-Wai Wong\n",
      "about       Two neighbors form a strong bond after both su...\n",
      "Name: 258, dtype: object\n",
      "index                                                     136\n",
      "movie                                          Koe no katachi\n",
      "genre                    Animation  Drama  Family            \n",
      "director                                         Naoko Yamada\n",
      "about       A young man is ostracized by his classmates af...\n",
      "Name: 136, dtype: object\n"
     ]
    }
   ],
   "source": [
    "printNearestNeighbor(df, NearestNeighbor, movieIndex)"
   ]
  },
  {
   "cell_type": "code",
   "execution_count": null,
   "metadata": {},
   "outputs": [],
   "source": []
  },
  {
   "cell_type": "code",
   "execution_count": null,
   "metadata": {},
   "outputs": [],
   "source": []
  },
  {
   "cell_type": "code",
   "execution_count": null,
   "metadata": {},
   "outputs": [],
   "source": []
  }
 ],
 "metadata": {
  "kernelspec": {
   "display_name": "Python 3",
   "language": "python",
   "name": "python3"
  },
  "language_info": {
   "codemirror_mode": {
    "name": "ipython",
    "version": 3
   },
   "file_extension": ".py",
   "mimetype": "text/x-python",
   "name": "python",
   "nbconvert_exporter": "python",
   "pygments_lexer": "ipython3",
   "version": "3.8.5"
  }
 },
 "nbformat": 4,
 "nbformat_minor": 4
}
